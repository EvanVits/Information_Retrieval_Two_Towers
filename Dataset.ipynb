{
 "cells": [
  {
   "cell_type": "code",
   "execution_count": 1,
   "metadata": {
    "colab": {
     "base_uri": "https://localhost:8080/"
    },
    "id": "OI9y0V6S_Gso",
    "outputId": "97109c07-1263-43db-b3d8-fc8cc49c2605"
   },
   "outputs": [],
   "source": [
    "# libraries\n",
    "import kagglehub\n",
    "import pandas as pd\n",
    "import ast\n",
    "import numpy as np\n",
    "import gc\n",
    "from sklearn.preprocessing import LabelEncoder, MultiLabelBinarizer\n",
    "from collections import Counter\n"
   ]
  },
  {
   "cell_type": "markdown",
   "metadata": {
    "id": "6pKS3SkjwHYU"
   },
   "source": [
    "# Loading and preprocessing of the movie dataset"
   ]
  },
  {
   "cell_type": "code",
   "execution_count": 2,
   "metadata": {
    "colab": {
     "base_uri": "https://localhost:8080/"
    },
    "id": "3QKLOlYSIU6Q",
    "outputId": "2f9ce93e-1980-44ac-de6e-f6426ddcffde"
   },
   "outputs": [
    {
     "name": "stderr",
     "output_type": "stream",
     "text": [
      "C:\\Users\\nickl\\AppData\\Local\\Temp\\ipykernel_9968\\24608770.py:6: DtypeWarning: Columns (10) have mixed types. Specify dtype option on import or set low_memory=False.\n",
      "  movies_meta = pd.read_csv(data_path)\n"
     ]
    }
   ],
   "source": [
    "# movies dataset\n",
    "path = kagglehub.dataset_download(\"rounakbanik/the-movies-dataset\")\n",
    "\n",
    "# Load the dataset (assuming the main file is 'movies_metadata.csv')\n",
    "data_path = f\"{path}/movies_metadata.csv\"\n",
    "movies_meta = pd.read_csv(data_path)"
   ]
  },
  {
   "cell_type": "code",
   "execution_count": 3,
   "metadata": {},
   "outputs": [],
   "source": [
    "movies_meta = movies_meta[(movies_meta[\"adult\"] == 'True') | (movies_meta[\"adult\"] == 'False')]\n",
    "movies_meta[\"adult\"] = movies_meta[\"adult\"].astype(bool)\n",
    "movies_meta[\"budget\"] = movies_meta[\"budget\"].astype(int)\n",
    "movies_meta = movies_meta[movies_meta[\"id\"].str.isnumeric()] # there are some invalid id values. These rows also have other incorrect data types, so we drop them\n",
    "movies_meta[\"id\"] = movies_meta[\"id\"].astype(int)\n",
    "movies_meta[\"original_title\"] = movies_meta[\"original_title\"].astype(str)\n",
    "movies_meta[\"popularity\"] = pd.to_numeric(movies_meta[\"popularity\"], errors='coerce') # some of the popularity entries were strings, converted to float now. This was also a warning upon loading the csv\n",
    "movies_meta.drop(columns=[\"belongs_to_collection\", \"homepage\", \"tagline\", \"poster_path\"], inplace=True) # too many NaN values. And poster_path is just a filepath to a jpg file"
   ]
  },
  {
   "cell_type": "code",
   "execution_count": 4,
   "metadata": {
    "colab": {
     "base_uri": "https://localhost:8080/",
     "height": 811
    },
    "id": "LgrkzcMxYbXW",
    "outputId": "7abba226-6553-426a-b047-b8712e427cf0"
   },
   "outputs": [],
   "source": [
    "movies_meta['genres'] = movies_meta['genres'].apply(ast.literal_eval)\n",
    "\n",
    "movies_meta['genre_names'] = movies_meta['genres'].apply(lambda x: [genre['name'] for genre in x])\n",
    "\n",
    "# one hot encoding for genres\n",
    "mlb_genres = MultiLabelBinarizer()\n",
    "genre_encoded = pd.DataFrame(mlb_genres.fit_transform(movies_meta['genre_names']),\n",
    "                              columns=mlb_genres.classes_,\n",
    "                              index=movies_meta.index)\n",
    "\n",
    "# Handle NaN values before applying ast.literal_eval\n",
    "movies_meta['spoken_languages'] = movies_meta['spoken_languages'].apply(lambda x: ast.literal_eval(x) if pd.notnull(x) else [])\n",
    "\n",
    "movies_meta['languages'] = movies_meta['spoken_languages'].apply(lambda x: [lang['name'] for lang in x] if x else [])\n",
    "\n",
    "# one hot encoding for languages\n",
    "mlb_languages = MultiLabelBinarizer()\n",
    "mlb_languages.fit_transform(movies_meta[\"languages\"])\n",
    "languages_encoded = pd.DataFrame(mlb_languages.fit_transform(movies_meta['languages']),\n",
    "                              columns=mlb_languages.classes_,\n",
    "                              index=movies_meta.index)\n",
    "movies_meta = pd.concat([movies_meta, genre_encoded, languages_encoded], axis=1)\n",
    "del genre_encoded\n",
    "del languages_encoded\n",
    "\n",
    "\n",
    "movies_meta['runtime'] = pd.to_numeric(movies_meta['runtime'], errors='coerce').astype('Int64')\n",
    "movies_meta['release_date'] = movies_meta['release_date'].str[:4]\n",
    "movies_meta.rename(columns={\"release_date\": \"year\"}, inplace=True)\n",
    "movies_meta = movies_meta.rename(columns={'runtime': 'duration'})\n",
    "movies_meta.drop(columns=[\"adult\", \"imdb_id\", \"status\", \"video\", \"spoken_languages\", \"genres\", \"production_companies\", \"production_countries\", \"overview\", \"genre_names\", \"languages\"], inplace=True)"
   ]
  },
  {
   "cell_type": "markdown",
   "metadata": {
    "id": "cntD0mkywOfL"
   },
   "source": [
    "# Loading and preparing the ratings dataset"
   ]
  },
  {
   "cell_type": "code",
   "execution_count": 5,
   "metadata": {
    "colab": {
     "base_uri": "https://localhost:8080/"
    },
    "id": "zbSqSrtSwRf7",
    "outputId": "880b302f-34b5-4375-e8fb-7fe69880ebea"
   },
   "outputs": [
    {
     "data": {
      "text/plain": [
       "(26024289, 3)"
      ]
     },
     "execution_count": 5,
     "metadata": {},
     "output_type": "execute_result"
    }
   ],
   "source": [
    "ratings_path = f\"{path}/ratings.csv\"\n",
    "ratings = pd.read_csv(ratings_path)\n",
    "ratings.drop(columns=[\"timestamp\"], inplace=True)\n",
    "ratings.shape"
   ]
  },
  {
   "cell_type": "markdown",
   "metadata": {
    "id": "HUc3u5yiBhXe"
   },
   "source": [
    "# Merging"
   ]
  },
  {
   "cell_type": "code",
   "execution_count": 6,
   "metadata": {
    "id": "o3tobK9UBhpZ"
   },
   "outputs": [],
   "source": [
    "# Prepare Training Data\n",
    "merged_df = pd.merge(ratings, movies_meta,left_on='movieId', right_on='id', how='inner')\n",
    "merged_df = merged_df.loc[:, (merged_df != 0).any(axis=0)] # remove all columns with only zero values. This can be the case for some genre or language columns\n",
    "del movies_meta\n",
    "del ratings\n",
    "merged_df.drop(columns=[\"id\"], inplace=True) # this is now a duplicate column because of the merging, so we can drop it"
   ]
  },
  {
   "cell_type": "markdown",
   "metadata": {
    "id": "HUc3u5yiBhXe"
   },
   "source": [
    "# Additional preprocessing"
   ]
  },
  {
   "cell_type": "code",
   "execution_count": 7,
   "metadata": {},
   "outputs": [],
   "source": [
    "merged_df.drop(columns=[\"\"], inplace=True) # the language one hot encoding resulted in one column with an empty string as column name. We drop it\n",
    "language_columns = [lang for lang in mlb_languages.classes_ if lang in merged_df.columns]\n",
    "\n",
    "# remove columns of languages that rarely occur, and instead combine them into a single column other language\n",
    "infrequent_langs = []\n",
    "for language in language_columns:\n",
    "    frequency = Counter(merged_df[language])[1] / len(merged_df)\n",
    "    if frequency < 0.01:\n",
    "        infrequent_langs.append(language)\n",
    "\n",
    "merged_df['Other_language'] = 0\n",
    "for language in infrequent_langs:\n",
    "    merged_df['Other_language'] = merged_df['Other_language'] | merged_df[language] # Bitwise OR. If any column has 1, the corresponding row in Other_language will be set to 1\n",
    "    \n",
    "merged_df.drop(columns=infrequent_langs, inplace=True)"
   ]
  },
  {
   "cell_type": "code",
   "execution_count": 8,
   "metadata": {},
   "outputs": [
    {
     "name": "stdout",
     "output_type": "stream",
     "text": [
      "['userId', 'movieId', 'rating', 'budget', 'original_language', 'original_title', 'popularity', 'year', 'revenue', 'duration', 'title', 'vote_average', 'vote_count', 'Action', 'Adventure', 'Animation', 'Comedy', 'Crime', 'Documentary', 'Drama', 'Family', 'Fantasy', 'Foreign', 'History', 'Horror', 'Music', 'Mystery', 'Romance', 'Science Fiction', 'TV Movie', 'Thriller', 'War', 'Western', 'Deutsch', 'English', 'Español', 'Français', 'Italiano', 'Português', 'Pусский', 'suomi', 'svenska', 'العربية', 'हिन्दी', '日本語', '普通话', 'Other_language']\n"
     ]
    }
   ],
   "source": [
    "print(list(merged_df.columns))"
   ]
  },
  {
   "cell_type": "code",
   "execution_count": 10,
   "metadata": {},
   "outputs": [],
   "source": [
    "merged_df.dropna(how=\"any\", inplace=True)"
   ]
  },
  {
   "cell_type": "markdown",
   "metadata": {
    "id": "HUc3u5yiBhXe"
   },
   "source": [
    "# Saving dataframe to file"
   ]
  },
  {
   "cell_type": "code",
   "execution_count": 13,
   "metadata": {},
   "outputs": [],
   "source": [
    "merged_df.to_parquet(\"merged_df.parquet\")"
   ]
  },
  {
   "cell_type": "code",
   "execution_count": 69,
   "metadata": {},
   "outputs": [
    {
     "name": "stdout",
     "output_type": "stream",
     "text": [
      "   rating  budget original_language          original_title  \\\n",
      "0     1.0       0                fr  Trois couleurs : Rouge   \n",
      "1     3.5       0                fr  Trois couleurs : Rouge   \n",
      "2     5.0       0                fr  Trois couleurs : Rouge   \n",
      "3     5.0       0                fr  Trois couleurs : Rouge   \n",
      "4     3.0       0                fr  Trois couleurs : Rouge   \n",
      "\n",
      "                                            overview  popularity  \\\n",
      "0  Red This is the third film from the trilogy by...    7.832755   \n",
      "1  Red This is the third film from the trilogy by...    7.832755   \n",
      "2  Red This is the third film from the trilogy by...    7.832755   \n",
      "3  Red This is the third film from the trilogy by...    7.832755   \n",
      "4  Red This is the third film from the trilogy by...    7.832755   \n",
      "\n",
      "                                production_countries  year  revenue  duration  \\\n",
      "0  [{'iso_3166_1': 'FR', 'name': 'France'}, {'iso...  1994      0.0        99   \n",
      "1  [{'iso_3166_1': 'FR', 'name': 'France'}, {'iso...  1994      0.0        99   \n",
      "2  [{'iso_3166_1': 'FR', 'name': 'France'}, {'iso...  1994      0.0        99   \n",
      "3  [{'iso_3166_1': 'FR', 'name': 'France'}, {'iso...  1994      0.0        99   \n",
      "4  [{'iso_3166_1': 'FR', 'name': 'France'}, {'iso...  1994      0.0        99   \n",
      "\n",
      "   ... Pусский  suomi  svenska العربية हिन्दी  日本語  普通话  Other_language  \\\n",
      "0  ...       0      0        0       0      0    0    0               0   \n",
      "1  ...       0      0        0       0      0    0    0               0   \n",
      "2  ...       0      0        0       0      0    0    0               0   \n",
      "3  ...       0      0        0       0      0    0    0               0   \n",
      "4  ...       0      0        0       0      0    0    0               0   \n",
      "\n",
      "   user_id_encoded  movie_id_encoded  \n",
      "0                0                72  \n",
      "1               10                72  \n",
      "2               21                72  \n",
      "3               23                72  \n",
      "4               28                72  \n",
      "\n",
      "[5 rows x 51 columns]\n"
     ]
    }
   ],
   "source": [
    "print(merged_df.head())"
   ]
  }
 ],
 "metadata": {
  "accelerator": "GPU",
  "colab": {
   "gpuType": "T4",
   "provenance": []
  },
  "kernelspec": {
   "display_name": "Python 3 (ipykernel)",
   "language": "python",
   "name": "python3"
  },
  "language_info": {
   "codemirror_mode": {
    "name": "ipython",
    "version": 3
   },
   "file_extension": ".py",
   "mimetype": "text/x-python",
   "name": "python",
   "nbconvert_exporter": "python",
   "pygments_lexer": "ipython3",
   "version": "3.11.7"
  }
 },
 "nbformat": 4,
 "nbformat_minor": 4
}
